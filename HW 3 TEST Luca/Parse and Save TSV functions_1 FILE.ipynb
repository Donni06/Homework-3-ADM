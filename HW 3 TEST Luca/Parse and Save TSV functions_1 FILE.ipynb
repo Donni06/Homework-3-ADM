{
 "cells": [
  {
   "cell_type": "code",
   "execution_count": 101,
   "metadata": {},
   "outputs": [],
   "source": [
    "# parse URL's from html 3\n",
    "from bs4 import BeautifulSoup\n",
    "import requests\n",
    "import urllib\n",
    "import time\n",
    "import math"
   ]
  },
  {
   "cell_type": "code",
   "execution_count": 21,
   "metadata": {},
   "outputs": [],
   "source": [
    "# open all HTML file that are in the directory \n",
    "import glob\n",
    "import os.path\n",
    "\n",
    "dir_path = r\"C:\\Users\\Luca\\Desktop\\-\\Università\\Magistrale\\Primo anno\\Primo semestre\\ADM\\Homeworks\\HW 3 TEST\"\n",
    "results_dir = r\"C:\\Users\\Luca\\Desktop\\-\\Università\\Magistrale\\Primo anno\\Primo semestre\\ADM\\Homeworks\\TSV\"\n",
    "\n",
    " # we just opened one file HTML , article_0   \n",
    "for file_name in glob.glob(os.path.join(dir_path, \"*.html\")):\n",
    "    with open(file_name, encoding=\"utf8\") as html_file:\n",
    "        soup = BeautifulSoup(html_file)\n",
    "    break\n",
    " # we just opened one file HTML , article_0   "
   ]
  },
  {
   "cell_type": "code",
   "execution_count": null,
   "metadata": {},
   "outputs": [],
   "source": [
    "soup"
   ]
  },
  {
   "cell_type": "markdown",
   "metadata": {},
   "source": [
    "## Method 1 "
   ]
  },
  {
   "cell_type": "markdown",
   "metadata": {},
   "source": [
    "### Title"
   ]
  },
  {
   "cell_type": "code",
   "execution_count": 16,
   "metadata": {},
   "outputs": [],
   "source": [
    "title = soup.select(\"#firstHeading\")[0].text"
   ]
  },
  {
   "cell_type": "code",
   "execution_count": 46,
   "metadata": {},
   "outputs": [
    {
     "data": {
      "text/plain": [
       "'Z.P.G.'"
      ]
     },
     "execution_count": 46,
     "metadata": {},
     "output_type": "execute_result"
    }
   ],
   "source": [
    "title"
   ]
  },
  {
   "cell_type": "markdown",
   "metadata": {},
   "source": [
    "### Intro "
   ]
  },
  {
   "cell_type": "code",
   "execution_count": 68,
   "metadata": {},
   "outputs": [
    {
     "name": "stdout",
     "output_type": "stream",
     "text": [
      "[\"Zee and Co (also known as X Y and Zee and Zee and Company) is a 1972 British drama film directed by Brian G. Hutton and starring Elizabeth Taylor, Michael Caine, and Susannah York. Released by Columbia Pictures, it was based upon a novel by Edna O'Brien.[1] The screenplay concerns a middle-aged, bickering couple whose marriage is on its last legs, and the woman who comes between them.\\n\", 'The theme song \"Going in Circles\" was covered by Three Dog Night on their album Seven Separate Fools (1972), as well as being the b-side to the single \"The Family of Man\".[citation needed]\\n']\n"
     ]
    }
   ],
   "source": [
    "section = soup.findAll('p')[1]\n",
    "nextNode = section\n",
    "intro = []\n",
    "intro.append(nextNode.text)\n",
    "\n",
    "while True:\n",
    "    nextNode = nextNode.find_next_sibling()\n",
    "    if nextNode and nextNode.name == 'p':\n",
    "        intro.append(nextNode.text)\n",
    "        print (intro)\n",
    "    else:\n",
    "        break          "
   ]
  },
  {
   "cell_type": "code",
   "execution_count": 70,
   "metadata": {},
   "outputs": [],
   "source": [
    "intro_s = \"\"\n",
    "\n",
    "for ele in intro: \n",
    "    intro_s += ele"
   ]
  },
  {
   "cell_type": "code",
   "execution_count": 71,
   "metadata": {},
   "outputs": [
    {
     "data": {
      "text/plain": [
       "'Zee and Co (also known as X Y and Zee and Zee and Company) is a 1972 British drama film directed by Brian G. Hutton and starring Elizabeth Taylor, Michael Caine, and Susannah York. Released by Columbia Pictures, it was based upon a novel by Edna O\\'Brien.[1] The screenplay concerns a middle-aged, bickering couple whose marriage is on its last legs, and the woman who comes between them.\\nThe theme song \"Going in Circles\" was covered by Three Dog Night on their album Seven Separate Fools (1972), as well as being the b-side to the single \"The Family of Man\".[citation needed]\\n'"
      ]
     },
     "execution_count": 71,
     "metadata": {},
     "output_type": "execute_result"
    }
   ],
   "source": [
    "intro_s"
   ]
  },
  {
   "cell_type": "markdown",
   "metadata": {},
   "source": [
    "### Second Section (Plot)"
   ]
  },
  {
   "cell_type": "code",
   "execution_count": 74,
   "metadata": {},
   "outputs": [],
   "source": [
    "section = soup.findAll('h2')[1]\n",
    "nextNode = section\n",
    "plot = []\n",
    "while True:\n",
    "    nextNode = nextNode.find_next_sibling()\n",
    "    if nextNode and nextNode.name == 'p':\n",
    "        plot.append(nextNode.text)\n",
    "\n",
    "    else:\n",
    "        break          "
   ]
  },
  {
   "cell_type": "code",
   "execution_count": 75,
   "metadata": {},
   "outputs": [
    {
     "data": {
      "text/plain": [
       "[\"Zee Blakely (Elizabeth Taylor) is a loud, coarse, 40-something socialite, whose marriage to her architect husband Robert (Michael Caine) is on the rocks as witnessed by their frequent verbal sparring matches. Sick of Zee's antics, Robert is drawn to quiet boutique owner Stella (Susannah York) who is the complete antithesis to Zee in terms of personality.\\n\",\n",
       " \"Feeling bored and rejected, Zee attempts a number of methods to regain Robert's sympathy, such as attempting suicide, but these do not work. Zee discovers that Stella had a lesbian affair in the past, and uses this against both her and Robert and then dares him to partake in a love triangle with Stella.\\n\"]"
      ]
     },
     "execution_count": 75,
     "metadata": {},
     "output_type": "execute_result"
    }
   ],
   "source": [
    "plot"
   ]
  },
  {
   "cell_type": "code",
   "execution_count": 78,
   "metadata": {},
   "outputs": [],
   "source": [
    "plot_s = \"\"\n",
    "\n",
    "for ele in plot: \n",
    "    plot_s += ele"
   ]
  },
  {
   "cell_type": "code",
   "execution_count": 79,
   "metadata": {},
   "outputs": [
    {
     "data": {
      "text/plain": [
       "\"Zee Blakely (Elizabeth Taylor) is a loud, coarse, 40-something socialite, whose marriage to her architect husband Robert (Michael Caine) is on the rocks as witnessed by their frequent verbal sparring matches. Sick of Zee's antics, Robert is drawn to quiet boutique owner Stella (Susannah York) who is the complete antithesis to Zee in terms of personality.\\nFeeling bored and rejected, Zee attempts a number of methods to regain Robert's sympathy, such as attempting suicide, but these do not work. Zee discovers that Stella had a lesbian affair in the past, and uses this against both her and Robert and then dares him to partake in a love triangle with Stella.\\n\""
      ]
     },
     "execution_count": 79,
     "metadata": {},
     "output_type": "execute_result"
    }
   ],
   "source": [
    "plot_s"
   ]
  },
  {
   "cell_type": "markdown",
   "metadata": {},
   "source": [
    "### Infobox"
   ]
  },
  {
   "cell_type": "code",
   "execution_count": 76,
   "metadata": {},
   "outputs": [],
   "source": [
    "table = soup.find('table', class_='infobox vevent')\n",
    "nextNode = table\n",
    "table2 = table.find_all('tr')\n",
    "\n",
    "dic={}\n",
    "for th in table2[1:]:\n",
    "    if th.find('th'):            \n",
    "        dic[th.find('th').text] = th.find('td').get_text(strip=True, separator='|').split('|')\n",
    "    "
   ]
  },
  {
   "cell_type": "code",
   "execution_count": 77,
   "metadata": {},
   "outputs": [
    {
     "data": {
      "text/plain": [
       "{'Directed by': ['Michael Campus'],\n",
       " 'Produced by': ['Frank De Felitta', 'Max Simon Ehrlich', 'Tom Madigan'],\n",
       " 'Written by': ['Frank De Felitta', 'Max Simon Ehrlich'],\n",
       " 'Starring': ['Oliver Reed',\n",
       "  'Geraldine Chaplin',\n",
       "  'Don Gordon',\n",
       "  'Diane Cilento'],\n",
       " 'Music by': ['Jonathan Hodge'],\n",
       " 'Cinematography': ['Michael Reed', 'Mikael Salomon'],\n",
       " 'Edited by': ['Dennis Lanning'],\n",
       " 'Distributed by': ['Scotia-Barber'],\n",
       " 'Release date': ['25\\xa0May\\xa01972', '(', '1972-05-25', ')'],\n",
       " 'Running time': ['97 minutes'],\n",
       " 'Country': ['Denmark', 'United States', '[1]'],\n",
       " 'Language': ['English']}"
      ]
     },
     "execution_count": 77,
     "metadata": {},
     "output_type": "execute_result"
    }
   ],
   "source": [
    "dic"
   ]
  },
  {
   "cell_type": "markdown",
   "metadata": {},
   "source": [
    "film_name, director, producer, writer, starring, music, release date, runtime, country, language, budget."
   ]
  },
  {
   "cell_type": "code",
   "execution_count": 78,
   "metadata": {},
   "outputs": [],
   "source": [
    "standard_dic = {\n",
    "    \"Directed by\" : \"\",\n",
    "    \"Produced by\": \"\",\n",
    "    \"Written by\": \"\",\n",
    "    \"Starring\": \"\",\n",
    "    \"Music by\": \"\", \n",
    "    \"Release date\": \"\",\n",
    "    \"Running time\": \"\",\n",
    "    \"Country\": \"\",\n",
    "    \"Language\": \"\",\n",
    "    \"Budget\": \"\" \n",
    "}"
   ]
  },
  {
   "cell_type": "markdown",
   "metadata": {},
   "source": [
    "### IDEA"
   ]
  },
  {
   "cell_type": "code",
   "execution_count": 109,
   "metadata": {},
   "outputs": [],
   "source": [
    "shared_items = {k: dic[k] for k in dic.keys() & standard_dic.keys()}"
   ]
  },
  {
   "cell_type": "code",
   "execution_count": 133,
   "metadata": {},
   "outputs": [
    {
     "name": "stdout",
     "output_type": "stream",
     "text": [
      "['Oliver Reed', 'Geraldine Chaplin', 'Don Gordon', 'Diane Cilento']\n",
      "['Denmark', 'United States', '[1]']\n",
      "['Frank De Felitta', 'Max Simon Ehrlich', 'Tom Madigan']\n",
      "['25\\xa0May\\xa01972', '(', '1972-05-25', ')']\n",
      "['Frank De Felitta', 'Max Simon Ehrlich']\n",
      "['97 minutes']\n",
      "['English']\n",
      "['Michael Campus']\n",
      "['Jonathan Hodge']\n"
     ]
    }
   ],
   "source": [
    "# We transform the list into strings\n",
    "for k, v in shared_items.items():\n",
    "    shared_items[k] = \", \".join(v)"
   ]
  },
  {
   "cell_type": "code",
   "execution_count": 135,
   "metadata": {},
   "outputs": [
    {
     "data": {
      "text/plain": [
       "{'Starring': 'Oliver Reed, Geraldine Chaplin, Don Gordon, Diane Cilento',\n",
       " 'Country': 'Denmark, United States, [1]',\n",
       " 'Produced by': 'Frank De Felitta, Max Simon Ehrlich, Tom Madigan',\n",
       " 'Release date': '25\\xa0May\\xa01972, (, 1972-05-25, )',\n",
       " 'Written by': 'Frank De Felitta, Max Simon Ehrlich',\n",
       " 'Running time': '97 minutes',\n",
       " 'Language': 'English',\n",
       " 'Directed by': 'Michael Campus',\n",
       " 'Music by': 'Jonathan Hodge'}"
      ]
     },
     "execution_count": 135,
     "metadata": {},
     "output_type": "execute_result"
    }
   ],
   "source": [
    "shared_items"
   ]
  },
  {
   "cell_type": "code",
   "execution_count": 136,
   "metadata": {},
   "outputs": [],
   "source": [
    "# Difference, we would like to find the missing INFO of this movie\n",
    "value = { k : standard_dic[k] for k in set(standard_dic) - set(dic) }"
   ]
  },
  {
   "cell_type": "code",
   "execution_count": 137,
   "metadata": {},
   "outputs": [],
   "source": [
    "# Replace missing INFO with NaN\n",
    "value = {k: None if not v else v for k, v in value.items() }"
   ]
  },
  {
   "cell_type": "code",
   "execution_count": 138,
   "metadata": {},
   "outputs": [
    {
     "data": {
      "text/plain": [
       "{'Budget': None}"
      ]
     },
     "execution_count": 138,
     "metadata": {},
     "output_type": "execute_result"
    }
   ],
   "source": [
    "value"
   ]
  },
  {
   "cell_type": "code",
   "execution_count": 139,
   "metadata": {},
   "outputs": [],
   "source": [
    "# Let's combine these two dictionaries\n",
    "final = dict(shared_items, **value)"
   ]
  },
  {
   "cell_type": "code",
   "execution_count": 140,
   "metadata": {},
   "outputs": [
    {
     "data": {
      "text/plain": [
       "{'Starring': 'Oliver Reed, Geraldine Chaplin, Don Gordon, Diane Cilento',\n",
       " 'Country': 'Denmark, United States, [1]',\n",
       " 'Produced by': 'Frank De Felitta, Max Simon Ehrlich, Tom Madigan',\n",
       " 'Release date': '25\\xa0May\\xa01972, (, 1972-05-25, )',\n",
       " 'Written by': 'Frank De Felitta, Max Simon Ehrlich',\n",
       " 'Running time': '97 minutes',\n",
       " 'Language': 'English',\n",
       " 'Directed by': 'Michael Campus',\n",
       " 'Music by': 'Jonathan Hodge',\n",
       " 'Budget': None}"
      ]
     },
     "execution_count": 140,
     "metadata": {},
     "output_type": "execute_result"
    }
   ],
   "source": [
    "final"
   ]
  },
  {
   "cell_type": "markdown",
   "metadata": {},
   "source": [
    "### Write the dict into csv file"
   ]
  },
  {
   "cell_type": "code",
   "execution_count": 148,
   "metadata": {},
   "outputs": [],
   "source": [
    "import csv\n",
    "with open(r'TSV\\test_infobox.tsv', 'wt') as f:\n",
    "    \n",
    "    w = csv.DictWriter(f, final.keys(), delimiter ='\\t')\n",
    "    w.writeheader()\n",
    "    w.writerow(final)"
   ]
  },
  {
   "cell_type": "markdown",
   "metadata": {},
   "source": [
    "## Write on file TSV "
   ]
  },
  {
   "cell_type": "code",
   "execution_count": 105,
   "metadata": {},
   "outputs": [],
   "source": [
    "names = ['Title', 'Intro', 'Plot']\n",
    "data = [title, intro_s, plot_s]"
   ]
  },
  {
   "cell_type": "code",
   "execution_count": 114,
   "metadata": {},
   "outputs": [],
   "source": [
    "with open(r'TSV\\article0.tsv', 'wt') as out_file:\n",
    "    tsv_writer = csv.writer(out_file, delimiter='\\t')\n",
    "    tsv_writer.writerow(names)\n",
    "    tsv_writer.writerow(data)"
   ]
  }
 ],
 "metadata": {
  "kernelspec": {
   "display_name": "Python 3",
   "language": "python",
   "name": "python3"
  },
  "language_info": {
   "codemirror_mode": {
    "name": "ipython",
    "version": 3
   },
   "file_extension": ".py",
   "mimetype": "text/x-python",
   "name": "python",
   "nbconvert_exporter": "python",
   "pygments_lexer": "ipython3",
   "version": "3.7.3"
  }
 },
 "nbformat": 4,
 "nbformat_minor": 2
}
