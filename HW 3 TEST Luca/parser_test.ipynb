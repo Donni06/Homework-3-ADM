{
 "cells": [
  {
   "cell_type": "code",
   "execution_count": 1,
   "metadata": {},
   "outputs": [],
   "source": [
    "# parse URL's from html 3\n",
    "from bs4 import BeautifulSoup\n",
    "import requests\n",
    "import urllib\n",
    "import time"
   ]
  },
  {
   "cell_type": "code",
   "execution_count": 2,
   "metadata": {},
   "outputs": [],
   "source": [
    "movies3 = BeautifulSoup(open(r\"C:\\Users\\Luca\\Desktop\\-\\Università\\Magistrale\\Primo anno\\Primo semestre\\ADM\\Homeworks\\Homework #3\\movies3.html\"), \"html.parser\")"
   ]
  },
  {
   "cell_type": "code",
   "execution_count": 3,
   "metadata": {},
   "outputs": [],
   "source": [
    "movies3.prettify()\n",
    "urls = []\n",
    "for url in movies3.findAll('a', href=True):\n",
    "    urls.append(url['href'])"
   ]
  },
  {
   "cell_type": "code",
   "execution_count": 4,
   "metadata": {},
   "outputs": [],
   "source": [
    "new_urls = [urls[0], urls[1], urls[3]]"
   ]
  },
  {
   "cell_type": "code",
   "execution_count": 5,
   "metadata": {},
   "outputs": [
    {
     "data": {
      "text/plain": [
       "['https://en.wikipedia.org/wiki/Z.P.G.',\n",
       " 'https://en.wikipedia.org/wiki/Zee_and_Co.',\n",
       " 'https://en.wikipedia.org/wiki/The_Asphyx']"
      ]
     },
     "execution_count": 5,
     "metadata": {},
     "output_type": "execute_result"
    }
   ],
   "source": [
    "new_urls"
   ]
  },
  {
   "cell_type": "code",
   "execution_count": 7,
   "metadata": {},
   "outputs": [],
   "source": [
    "c = 0\n",
    "for url in new_urls:\n",
    "    \n",
    "    try :\n",
    "        urllib.request.urlretrieve(url, \"article{}.html\".format(c))\n",
    "        r = requests.get(url)\n",
    "        time.sleep(2)\n",
    "        c += 1\n",
    "        if r.status_code != 200:\n",
    "            raise Exception(\"Could not download URL\" + url)\n",
    "    except Exception:\n",
    "        time.sleep(1200)"
   ]
  }
 ],
 "metadata": {
  "kernelspec": {
   "display_name": "Python 3",
   "language": "python",
   "name": "python3"
  },
  "language_info": {
   "codemirror_mode": {
    "name": "ipython",
    "version": 3
   },
   "file_extension": ".py",
   "mimetype": "text/x-python",
   "name": "python",
   "nbconvert_exporter": "python",
   "pygments_lexer": "ipython3",
   "version": "3.7.3"
  }
 },
 "nbformat": 4,
 "nbformat_minor": 2
}
